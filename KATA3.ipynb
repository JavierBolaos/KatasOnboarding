{
 "cells": [
  {
   "cell_type": "markdown",
   "metadata": {},
   "source": [
    "## Kata 3\n",
    "Advertencia de asteroide\n"
   ]
  },
  {
   "cell_type": "code",
   "execution_count": 1,
   "metadata": {},
   "outputs": [
    {
     "name": "stdout",
     "output_type": "stream",
     "text": [
      "El asteroide no conlleva un peligo\n"
     ]
    }
   ],
   "source": [
    "ast_vel = 19\n",
    "if ast_vel > 25:\n",
    "    print(\"Advertencia, el asteroide tiene una velocidad peligrosa\")\n",
    "else:\n",
    "    print(\"El asteroide no conlleva un peligo\")\n",
    "\n"
   ]
  },
  {
   "cell_type": "code",
   "execution_count": 2,
   "metadata": {},
   "outputs": [
    {
     "name": "stdout",
     "output_type": "stream",
     "text": [
      "No hay nada que ver aqui\n"
     ]
    }
   ],
   "source": [
    "asteroide = 19\n",
    "if asteroide > 20:\n",
    "    print('Sal a ver el esteroide,se puede ver en el cielo')\n",
    "elif asteroide == 20:\n",
    "    print('Sal a ver el asteroide, se puede ver en el cielo')\n",
    "else:\n",
    "    print('No hay nada que ver aqui')\n"
   ]
  },
  {
   "cell_type": "code",
   "execution_count": 3,
   "metadata": {},
   "outputs": [
    {
     "name": "stdout",
     "output_type": "stream",
     "text": [
      "Un asteroide podria impactar la tierra, peligro\n"
     ]
    }
   ],
   "source": [
    "ast_vel = 30\n",
    "asteroide = 50\n",
    "if ast_vel > 25 and asteroide > 25:\n",
    "    print(\"Un asteroide podria impactar la tierra, peligro\")\n",
    "elif ast_vel >= 20:\n",
    "    print(\"Sal a ver el asteroide, se puede ver en el cielo\")\n",
    "elif asteroide < 25:\n",
    "    print(\"No hay nada que ver aqui\")\n",
    "else:\n",
    "    print(\"No hay nada que ver aqui\")"
   ]
  }
 ],
 "metadata": {
  "interpreter": {
   "hash": "33541a670e8887513ebdf0f19cec6625b51694c5ef6b1c7e83282c54d5cd54e5"
  },
  "kernelspec": {
   "display_name": "Python 3.10.2 64-bit",
   "language": "python",
   "name": "python3"
  },
  "language_info": {
   "codemirror_mode": {
    "name": "ipython",
    "version": 3
   },
   "file_extension": ".py",
   "mimetype": "text/x-python",
   "name": "python",
   "nbconvert_exporter": "python",
   "pygments_lexer": "ipython3",
   "version": "3.10.2"
  },
  "orig_nbformat": 4
 },
 "nbformat": 4,
 "nbformat_minor": 2
}
